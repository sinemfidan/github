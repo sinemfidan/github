{
 "cells": [
  {
   "cell_type": "code",
   "execution_count": null,
   "metadata": {},
   "outputs": [],
   "source": [
    "deger1=int(input(\"Please,enter value:\"))\n",
    "deger2=input(\"Please,enter value:\")\n",
    "deger3=float(input(\"Please,enter value:\"))\n",
    "deger4=list(input(\"Please,enter value:\"))\n",
    "deger5=input(\"Please,enter value:\")\n",
    "print(\"User value 1:{} \\nUser value 2:{}\".format(deger1,deger2))\n",
    "print(f'User value 3:{deger3} \\nUser value 4:{deger4}')\n",
    "print(\"User value 5:\", deger5)\n",
    "print(type(deger1),type(deger2),type(deger3),type(deger4),type(deger5)) "
   ]
  }
 ],
 "metadata": {
  "kernelspec": {
   "display_name": "Python 3",
   "language": "python",
   "name": "python3"
  },
  "language_info": {
   "codemirror_mode": {
    "name": "ipython",
    "version": 3
   },
   "file_extension": ".py",
   "mimetype": "text/x-python",
   "name": "python",
   "nbconvert_exporter": "python",
   "pygments_lexer": "ipython3",
   "version": "3.8.3"
  }
 },
 "nbformat": 4,
 "nbformat_minor": 4
}
