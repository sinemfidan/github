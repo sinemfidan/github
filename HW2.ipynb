{
 "cells": [
  {
   "cell_type": "code",
   "execution_count": null,
   "metadata": {},
   "outputs": [],
   "source": [
    "userinformation=[]\n",
    "Name=input(\"Please,enter your name:\")\n",
    "Surname=input(\"Please,enter your surname:\")\n",
    "Age=int(input(\"Please,enter your age:\"))\n",
    "Dataofbirth=int(input(\"Please,enter your date of birth:\")) #JUST YEAR\n",
    "userinformation.append(Name)\n",
    "userinformation.append(Surname)\n",
    "userinformation.append(Age)\n",
    "userinformation.append(Dataofbirth)\n",
    "for information in userinformation:\n",
    "    print(information)\n",
    "    \n",
    "if Age<18:\n",
    "    print(\"You can't go out because it's too dangerous!!!\")\n",
    "else:\n",
    "        print(\"You can go out to the street...\")"
   ]
  },
  {
   "cell_type": "code",
   "execution_count": null,
   "metadata": {},
   "outputs": [],
   "source": []
  }
 ],
 "metadata": {
  "kernelspec": {
   "display_name": "Python 3",
   "language": "python",
   "name": "python3"
  },
  "language_info": {
   "codemirror_mode": {
    "name": "ipython",
    "version": 3
   },
   "file_extension": ".py",
   "mimetype": "text/x-python",
   "name": "python",
   "nbconvert_exporter": "python",
   "pygments_lexer": "ipython3",
   "version": "3.8.3"
  }
 },
 "nbformat": 4,
 "nbformat_minor": 4
}
